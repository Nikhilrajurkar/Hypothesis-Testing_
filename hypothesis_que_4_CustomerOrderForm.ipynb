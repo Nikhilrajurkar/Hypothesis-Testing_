{
  "cells": [
    {
      "cell_type": "markdown",
      "id": "eb8fddf3",
      "metadata": {
        "id": "eb8fddf3"
      },
      "source": [
        "# TeleCall uses 4 centers around the globe to process customer order forms. They audit a certain %  of the customer order forms. Any error in order form renders it defective and has to be reworked before processing.  The manager wants to check whether the defective %  varies by centre. Please analyze the data at 5% significance level and help the manager draw appropriate inferences\n"
      ]
    },
    {
      "cell_type": "code",
      "execution_count": 56,
      "id": "8264fa1c",
      "metadata": {
        "ExecuteTime": {
          "end_time": "2021-12-04T10:25:52.754786Z",
          "start_time": "2021-12-04T10:25:51.476006Z"
        },
        "id": "8264fa1c"
      },
      "outputs": [],
      "source": [
        "import pandas as pd \n",
        "from scipy import stats"
      ]
    },
    {
      "cell_type": "code",
      "execution_count": 57,
      "id": "9f09dcd4",
      "metadata": {
        "ExecuteTime": {
          "end_time": "2021-12-04T10:25:52.770785Z",
          "start_time": "2021-12-04T10:25:52.756694Z"
        },
        "id": "9f09dcd4"
      },
      "outputs": [],
      "source": [
        "df=pd.read_csv('/content/Costomer+OrderForm.csv')"
      ]
    },
    {
      "cell_type": "markdown",
      "source": [
        "#As these are categorical data so we use chi-squre test \n",
        "\n",
        "#hypothesis is \n",
        "\n",
        "#  Ho= % of defective of all countries are equal i.e % Phillipness=%Indonesia=%Malta=%India\n",
        "#  Ha =At lest one defective% is not equal "
      ],
      "metadata": {
        "id": "wzrf4iHtLGhK"
      },
      "id": "wzrf4iHtLGhK"
    },
    {
      "cell_type": "code",
      "execution_count": 58,
      "id": "237519ad",
      "metadata": {
        "ExecuteTime": {
          "end_time": "2021-12-04T10:25:53.386745Z",
          "start_time": "2021-12-04T10:25:53.142964Z"
        },
        "colab": {
          "base_uri": "https://localhost:8080/"
        },
        "id": "237519ad",
        "outputId": "e45a1417-a072-4d35-d822-ceed9af8c949"
      },
      "outputs": [
        {
          "output_type": "execute_result",
          "data": {
            "text/plain": [
              "(Error Free    271\n",
              " Defective      29\n",
              " Name: Phillippines, dtype: int64, Error Free    267\n",
              " Defective      33\n",
              " Name: Indonesia, dtype: int64, Error Free    269\n",
              " Defective      31\n",
              " Name: Malta, dtype: int64, Error Free    280\n",
              " Defective      20\n",
              " Name: India, dtype: int64)"
            ]
          },
          "metadata": {},
          "execution_count": 58
        }
      ],
      "source": [
        "x=df['Phillippines'].value_counts(),df['Indonesia'].value_counts(),df['Malta'].value_counts(),df['India'].value_counts()\n",
        "x"
      ]
    },
    {
      "cell_type": "code",
      "source": [
        "df=pd.DataFrame(index=['Phillippines','Indonesia','Malta','India'],data={\"Error Free\":[271,267,269,280],\"Defective\":[29,33,31,20]})\n",
        "df"
      ],
      "metadata": {
        "colab": {
          "base_uri": "https://localhost:8080/",
          "height": 175
        },
        "id": "x1ukjznwMVX1",
        "outputId": "5272c3d2-216e-4115-8be1-0b48c9f1ab3b"
      },
      "id": "x1ukjznwMVX1",
      "execution_count": 59,
      "outputs": [
        {
          "output_type": "execute_result",
          "data": {
            "text/html": [
              "\n",
              "  <div id=\"df-65333dae-d499-4da8-856e-19cec49b3e61\">\n",
              "    <div class=\"colab-df-container\">\n",
              "      <div>\n",
              "<style scoped>\n",
              "    .dataframe tbody tr th:only-of-type {\n",
              "        vertical-align: middle;\n",
              "    }\n",
              "\n",
              "    .dataframe tbody tr th {\n",
              "        vertical-align: top;\n",
              "    }\n",
              "\n",
              "    .dataframe thead th {\n",
              "        text-align: right;\n",
              "    }\n",
              "</style>\n",
              "<table border=\"1\" class=\"dataframe\">\n",
              "  <thead>\n",
              "    <tr style=\"text-align: right;\">\n",
              "      <th></th>\n",
              "      <th>Error Free</th>\n",
              "      <th>Defective</th>\n",
              "    </tr>\n",
              "  </thead>\n",
              "  <tbody>\n",
              "    <tr>\n",
              "      <th>Phillippines</th>\n",
              "      <td>271</td>\n",
              "      <td>29</td>\n",
              "    </tr>\n",
              "    <tr>\n",
              "      <th>Indonesia</th>\n",
              "      <td>267</td>\n",
              "      <td>33</td>\n",
              "    </tr>\n",
              "    <tr>\n",
              "      <th>Malta</th>\n",
              "      <td>269</td>\n",
              "      <td>31</td>\n",
              "    </tr>\n",
              "    <tr>\n",
              "      <th>India</th>\n",
              "      <td>280</td>\n",
              "      <td>20</td>\n",
              "    </tr>\n",
              "  </tbody>\n",
              "</table>\n",
              "</div>\n",
              "      <button class=\"colab-df-convert\" onclick=\"convertToInteractive('df-65333dae-d499-4da8-856e-19cec49b3e61')\"\n",
              "              title=\"Convert this dataframe to an interactive table.\"\n",
              "              style=\"display:none;\">\n",
              "        \n",
              "  <svg xmlns=\"http://www.w3.org/2000/svg\" height=\"24px\"viewBox=\"0 0 24 24\"\n",
              "       width=\"24px\">\n",
              "    <path d=\"M0 0h24v24H0V0z\" fill=\"none\"/>\n",
              "    <path d=\"M18.56 5.44l.94 2.06.94-2.06 2.06-.94-2.06-.94-.94-2.06-.94 2.06-2.06.94zm-11 1L8.5 8.5l.94-2.06 2.06-.94-2.06-.94L8.5 2.5l-.94 2.06-2.06.94zm10 10l.94 2.06.94-2.06 2.06-.94-2.06-.94-.94-2.06-.94 2.06-2.06.94z\"/><path d=\"M17.41 7.96l-1.37-1.37c-.4-.4-.92-.59-1.43-.59-.52 0-1.04.2-1.43.59L10.3 9.45l-7.72 7.72c-.78.78-.78 2.05 0 2.83L4 21.41c.39.39.9.59 1.41.59.51 0 1.02-.2 1.41-.59l7.78-7.78 2.81-2.81c.8-.78.8-2.07 0-2.86zM5.41 20L4 18.59l7.72-7.72 1.47 1.35L5.41 20z\"/>\n",
              "  </svg>\n",
              "      </button>\n",
              "      \n",
              "  <style>\n",
              "    .colab-df-container {\n",
              "      display:flex;\n",
              "      flex-wrap:wrap;\n",
              "      gap: 12px;\n",
              "    }\n",
              "\n",
              "    .colab-df-convert {\n",
              "      background-color: #E8F0FE;\n",
              "      border: none;\n",
              "      border-radius: 50%;\n",
              "      cursor: pointer;\n",
              "      display: none;\n",
              "      fill: #1967D2;\n",
              "      height: 32px;\n",
              "      padding: 0 0 0 0;\n",
              "      width: 32px;\n",
              "    }\n",
              "\n",
              "    .colab-df-convert:hover {\n",
              "      background-color: #E2EBFA;\n",
              "      box-shadow: 0px 1px 2px rgba(60, 64, 67, 0.3), 0px 1px 3px 1px rgba(60, 64, 67, 0.15);\n",
              "      fill: #174EA6;\n",
              "    }\n",
              "\n",
              "    [theme=dark] .colab-df-convert {\n",
              "      background-color: #3B4455;\n",
              "      fill: #D2E3FC;\n",
              "    }\n",
              "\n",
              "    [theme=dark] .colab-df-convert:hover {\n",
              "      background-color: #434B5C;\n",
              "      box-shadow: 0px 1px 3px 1px rgba(0, 0, 0, 0.15);\n",
              "      filter: drop-shadow(0px 1px 2px rgba(0, 0, 0, 0.3));\n",
              "      fill: #FFFFFF;\n",
              "    }\n",
              "  </style>\n",
              "\n",
              "      <script>\n",
              "        const buttonEl =\n",
              "          document.querySelector('#df-65333dae-d499-4da8-856e-19cec49b3e61 button.colab-df-convert');\n",
              "        buttonEl.style.display =\n",
              "          google.colab.kernel.accessAllowed ? 'block' : 'none';\n",
              "\n",
              "        async function convertToInteractive(key) {\n",
              "          const element = document.querySelector('#df-65333dae-d499-4da8-856e-19cec49b3e61');\n",
              "          const dataTable =\n",
              "            await google.colab.kernel.invokeFunction('convertToInteractive',\n",
              "                                                     [key], {});\n",
              "          if (!dataTable) return;\n",
              "\n",
              "          const docLinkHtml = 'Like what you see? Visit the ' +\n",
              "            '<a target=\"_blank\" href=https://colab.research.google.com/notebooks/data_table.ipynb>data table notebook</a>'\n",
              "            + ' to learn more about interactive tables.';\n",
              "          element.innerHTML = '';\n",
              "          dataTable['output_type'] = 'display_data';\n",
              "          await google.colab.output.renderOutput(dataTable, element);\n",
              "          const docLink = document.createElement('div');\n",
              "          docLink.innerHTML = docLinkHtml;\n",
              "          element.appendChild(docLink);\n",
              "        }\n",
              "      </script>\n",
              "    </div>\n",
              "  </div>\n",
              "  "
            ],
            "text/plain": [
              "              Error Free  Defective\n",
              "Phillippines         271         29\n",
              "Indonesia            267         33\n",
              "Malta                269         31\n",
              "India                280         20"
            ]
          },
          "metadata": {},
          "execution_count": 59
        }
      ]
    },
    {
      "cell_type": "code",
      "source": [
        "chiStats=stats.chi2_contingency(df)\n",
        "chiStats"
      ],
      "metadata": {
        "colab": {
          "base_uri": "https://localhost:8080/"
        },
        "id": "cUYx9SbUM5m7",
        "outputId": "9c492ea8-d83c-4180-eeb2-be4c814a7730"
      },
      "id": "cUYx9SbUM5m7",
      "execution_count": 60,
      "outputs": [
        {
          "output_type": "execute_result",
          "data": {
            "text/plain": [
              "(3.8589606858203545, 0.2771020991233144, 3, array([[271.75,  28.25],\n",
              "        [271.75,  28.25],\n",
              "        [271.75,  28.25],\n",
              "        [271.75,  28.25]]))"
            ]
          },
          "metadata": {},
          "execution_count": 60
        }
      ]
    },
    {
      "cell_type": "code",
      "execution_count": 61,
      "id": "1038715f",
      "metadata": {
        "ExecuteTime": {
          "end_time": "2021-12-04T10:25:53.803413Z",
          "start_time": "2021-12-04T10:25:53.687446Z"
        },
        "colab": {
          "base_uri": "https://localhost:8080/"
        },
        "id": "1038715f",
        "outputId": "728a38bf-d7ed-468e-e221-e25a711e7266"
      },
      "outputs": [
        {
          "output_type": "execute_result",
          "data": {
            "text/plain": [
              "0.2771020991233144"
            ]
          },
          "metadata": {},
          "execution_count": 61
        }
      ],
      "source": [
        "chiStats[1]"
      ]
    },
    {
      "cell_type": "markdown",
      "source": [
        "{p-value>0.05}\n",
        "\n",
        "value is greater than significance level (0.05)\n",
        "\n",
        "Accept Null Hypothesis\n",
        "\n",
        "defective percentage is same in all countries there is no need of any action "
      ],
      "metadata": {
        "id": "dgWflrAHLzMt"
      },
      "id": "dgWflrAHLzMt"
    }
  ],
  "metadata": {
    "kernelspec": {
      "display_name": "Python 3",
      "language": "python",
      "name": "python3"
    },
    "language_info": {
      "codemirror_mode": {
        "name": "ipython",
        "version": 3
      },
      "file_extension": ".py",
      "mimetype": "text/x-python",
      "name": "python",
      "nbconvert_exporter": "python",
      "pygments_lexer": "ipython3",
      "version": "3.8.8"
    },
    "colab": {
      "name": "hypothesis que 4 CustomerOrderForm.ipynb",
      "provenance": [],
      "collapsed_sections": []
    }
  },
  "nbformat": 4,
  "nbformat_minor": 5
}